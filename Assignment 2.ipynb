{
  "nbformat": 4,
  "nbformat_minor": 0,
  "metadata": {
    "colab": {
      "name": "Untitled4.ipynb",
      "version": "0.3.2",
      "provenance": []
    },
    "kernelspec": {
      "name": "python3",
      "display_name": "Python 3"
    }
  },
  "cells": [
    {
      "metadata": {
        "id": "VFr248W8jbKU",
        "colab_type": "code",
        "colab": {}
      },
      "cell_type": "code",
      "source": [
        "\n"
      ],
      "execution_count": 0,
      "outputs": []
    },
    {
      "metadata": {
        "id": "Ze4fFBX5jdvL",
        "colab_type": "code",
        "colab": {}
      },
      "cell_type": "code",
      "source": [
        "# Importing useful hashing and encryption libraries...\n",
        "import rsa\n",
        "import os\n",
        "import hashlib"
      ],
      "execution_count": 0,
      "outputs": []
    },
    {
      "metadata": {
        "id": "Cf073o1ljjAw",
        "colab_type": "code",
        "colab": {
          "base_uri": "https://localhost:8080/",
          "height": 34
        },
        "outputId": "e2f4c339-2615-4a2b-ece6-5f9a701b8c5e"
      },
      "cell_type": "code",
      "source": [
        "random_number = os.urandom(128)\n",
        "# Now we convert hexidecimal number into a integer representation.\n",
        "security_digest_integer = str(int(hashlib.sha256(random_number).hexdigest(),16))\n",
        "code = security_digest_integer[:6]\n",
        "code"
      ],
      "execution_count": 23,
      "outputs": [
        {
          "output_type": "execute_result",
          "data": {
            "text/plain": [
              "'953685'"
            ]
          },
          "metadata": {
            "tags": []
          },
          "execution_count": 23
        }
      ]
    },
    {
      "metadata": {
        "id": "QhR5vFdsjyxW",
        "colab_type": "text"
      },
      "cell_type": "markdown",
      "source": [
        "Generate a random number and then feed the first 6 elements as a password for the onetime password\n"
      ]
    },
    {
      "metadata": {
        "id": "ddZ5yXlKj6o6",
        "colab_type": "code",
        "colab": {
          "base_uri": "https://localhost:8080/",
          "height": 54
        },
        "outputId": "9662b6ef-8404-4fdd-8ccb-f4e1ac55dbb7"
      },
      "cell_type": "code",
      "source": [
        ""
      ],
      "execution_count": 9,
      "outputs": [
        {
          "output_type": "execute_result",
          "data": {
            "text/plain": [
              "b\"5sR\\x96$\\xe3\\xc8\\x9a\\xd9\\x94\\xcb\\xfa~\\x10Te\\xa9\\x05\\xaeH)N\\xf3O\\xac\\x1aU3\\x1eJ\\x009\\xaf\\x12\\xa2\\xeb\\xfc\\xc2\\x8a\\x1a<+\\xe1\\xc2\\xab\\xf3h\\x9c}\\xeb\\x88\\xebL\\xd4\\xb4'\\xdc\\xa3\\xcf \\xcc#\\x9a\\xcf\\xd2\\xaf\\x88\\xdf\\x80\\x1f\\x82\\xd7\\xfa\\x17\\x9b<!So\\x97$x\\xa0\\xb6\\xba\\x83\\x17\\r\\xe7N\\xfe\\x1d\\xa4\\xdbD6\\xa7q\\xd7\\xc1\\x0f\\xb8v\\xc7\\x17\\xb9\\xa3\\xa6\\xa5\\xcbE&\\x0f\\x14\\xf8J\\x9b\\xcb\\xcd\\xa0T\\xe4P\\xaa\\xb5C\\x88}\""
            ]
          },
          "metadata": {
            "tags": []
          },
          "execution_count": 9
        }
      ]
    },
    {
      "metadata": {
        "id": "H-W-7VGZkOIL",
        "colab_type": "code",
        "colab": {}
      },
      "cell_type": "code",
      "source": [
        ""
      ],
      "execution_count": 0,
      "outputs": []
    },
    {
      "metadata": {
        "id": "bgWy-0wPklOr",
        "colab_type": "code",
        "colab": {}
      },
      "cell_type": "code",
      "source": [
        ""
      ],
      "execution_count": 0,
      "outputs": []
    }
  ]
}